{
 "cells": [
  {
   "cell_type": "markdown",
   "id": "1c2586b6",
   "metadata": {},
   "source": [
    "# Übersicht über die Unterrichtsinhalte"
   ]
  },
  {
   "cell_type": "code",
   "execution_count": null,
   "id": "8dca300f",
   "metadata": {
    "tags": [
     "remove-input"
    ]
   },
   "outputs": [],
   "source": [
    "# Set CSS properties for th elements in dataframe\n",
    "th_props = [\n",
    "  ('font-size', '11px'),\n",
    "  ('text-align', 'center'),\n",
    "  ('font-weight', 'bold'),\n",
    "  ('color', '#6d6d6d'),\n",
    "  ('background-color', '#f7f7f9')\n",
    "  ]\n",
    "\n",
    "\n",
    "# Set CSS properties for td elements in dataframe\n",
    "td_props = [\n",
    "  ('font-size', '11px')\n",
    "  ]\n",
    "\n",
    "# Set table styles\n",
    "styles = [\n",
    "  dict(selector=\"th\", props=th_props),\n",
    "  dict(selector=\"td\", props=td_props)\n",
    "  ]\n",
    "\n",
    "import pandas as px\n",
    "bio_g9_05 = px.read_excel(\"bio_g9_05.xlsx\", dtype=object, sheet_name='bio_g9_05')\n",
    "(bio_g9_05.style\n",
    "    .applymap(color_negative_red, subset=['total_amt_usd_diff','total_amt_usd_pct_diff'])\n",
    "    .format({'total_amt_usd_pct_diff': \"{:.2%}\"})\n",
    "    .set_table_styles(styles))\n",
    "bio_g9_05.head()"
   ]
  }
 ],
 "metadata": {
  "jupytext": {
   "text_representation": {
    "extension": ".md",
    "format_name": "myst",
    "format_version": 0.13,
    "jupytext_version": "1.10.3"
   }
  },
  "kernelspec": {
   "display_name": "Python 3.9",
   "language": "python",
   "name": "python3"
  },
  "source_map": [
   12,
   16
  ]
 },
 "nbformat": 4,
 "nbformat_minor": 5
}