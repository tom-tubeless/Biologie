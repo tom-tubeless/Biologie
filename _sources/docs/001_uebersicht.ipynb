{
 "cells": [
  {
   "cell_type": "markdown",
   "id": "ab7779c9",
   "metadata": {},
   "source": [
    "# Übersicht über die Unterrichtsinhalte"
   ]
  },
  {
   "cell_type": "code",
   "execution_count": null,
   "id": "73826b0d",
   "metadata": {
    "tags": [
     "remove-input"
    ]
   },
   "outputs": [],
   "source": [
    "import pandas as px\n",
    "bio_g9_05 = px.read_excel(\"bio_g9_05.xlsx\", sheet_name='bio_g9_05')\n",
    "bio_g9_05.head()"
   ]
  }
 ],
 "metadata": {
  "jupytext": {
   "text_representation": {
    "extension": ".md",
    "format_name": "myst",
    "format_version": 0.13,
    "jupytext_version": "1.10.3"
   }
  },
  "kernelspec": {
   "display_name": "Python 3.9",
   "language": "python",
   "name": "python3"
  },
  "source_map": [
   12,
   16
  ]
 },
 "nbformat": 4,
 "nbformat_minor": 5
}