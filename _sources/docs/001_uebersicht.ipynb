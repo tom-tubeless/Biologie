{
 "cells": [
  {
   "cell_type": "markdown",
   "id": "e2bea797",
   "metadata": {},
   "source": [
    "# Übersicht über die Unterrichtsinhalte\n",
    "\n",
    "```{code-cell } python3\n",
    ":tags: [\"remove-input\"]\n",
    "import pandas as px\n",
    "bio_g9_05 = px.read_excel(\"bio_g9_05.xlsx\")\n",
    "bio_g9_05.head()\n",
    "```"
   ]
  }
 ],
 "metadata": {
  "jupytext": {
   "text_representation": {
    "extension": ".md",
    "format_name": "myst",
    "format_version": 0.13,
    "jupytext_version": "1.10.3"
   }
  },
  "kernelspec": {
   "display_name": "Python 3.9",
   "language": "python",
   "name": "python3"
  },
  "language_info": {
   "codemirror_mode": {
    "name": "ipython",
    "version": 3
   },
   "file_extension": ".py",
   "mimetype": "text/x-python",
   "name": "python",
   "nbconvert_exporter": "python",
   "pygments_lexer": "ipython3",
   "version": "3.9.6"
  },
  "source_map": [
   12
  ]
 },
 "nbformat": 4,
 "nbformat_minor": 5
}