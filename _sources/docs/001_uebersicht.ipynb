{
 "cells": [
  {
   "cell_type": "markdown",
   "id": "3c6f619e",
   "metadata": {},
   "source": [
    "# Übersicht über die Unterrichtsinhalte"
   ]
  },
  {
   "cell_type": "code",
   "execution_count": null,
   "id": "4ee50dd7",
   "metadata": {
    "tags": [
     "remove-input"
    ]
   },
   "outputs": [],
   "source": [
    "import pandas as px\n",
    "bio_g9_05 = px.read_excel(\"bio_g9_05.xlsx\", dtype=object, sheet_name='bio_g9_05')\n",
    "bio_g9_05.style.set_table_styles()\n",
    "bio_g9_05.head()"
   ]
  }
 ],
 "metadata": {
  "jupytext": {
   "text_representation": {
    "extension": ".md",
    "format_name": "myst",
    "format_version": 0.13,
    "jupytext_version": "1.10.3"
   }
  },
  "kernelspec": {
   "display_name": "Python 3.9",
   "language": "python",
   "name": "python3"
  },
  "source_map": [
   12,
   16
  ]
 },
 "nbformat": 4,
 "nbformat_minor": 5
}